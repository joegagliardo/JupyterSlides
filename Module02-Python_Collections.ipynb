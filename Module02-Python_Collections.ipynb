{
  "cells": [
    {
      "cell_type": "markdown",
      "metadata": {
        "id": "yUJrEdPRdpjp"
      },
      "source": [
        "# Python Collections"
      ]
    },
    {
      "cell_type": "markdown",
      "metadata": {
        "id": "bS0SCZbcfWpU"
      },
      "source": [
        "* Here is a <font color='blue' face=\"Courier New\" size=\"+1\">list</font> of numbers\n",
        "  * We can add and change elements as well as extract elements individually or in slices\n",
        "  * slices are either a single element or range of elements in square brackets <font color='blue' face=\"Courier New\" size=\"+1\">[ ]</font> after the variable name"
      ]
    },
    {
      "cell_type": "code",
      "execution_count": 6,
      "metadata": {
        "id": "192iJLdt7fOG",
        "colab": {
          "base_uri": "https://localhost:8080/"
        },
        "outputId": "fb6c173b-390c-4823-bf1c-05776e303ad2"
      },
      "outputs": [
        {
          "output_type": "stream",
          "name": "stdout",
          "text": [
            "[4, 2, 2, 10, 12, 3, 7, 12]\n",
            "4\n",
            "2\n",
            "[2, 10, 12, 3, 7, 12]\n",
            "[4, 2]\n",
            "[2, 10, 12, 3]\n"
          ]
        }
      ],
      "source": [
        "numbers = [4, 2, 2, 10, 12, 3, 7, 12]\n",
        "print(numbers)         # print the entire list, note the square brackets in the output\n",
        "print(numbers[0])      # print the first element, 0 is the first element\n",
        "print(numbers[2])      # print the third element, because it starts with 0\n",
        "print(numbers[2:])     # print the range of elements starting with element 2 (the third element) to the end, note the square brackets\n",
        "print(numbers[:2])     # print the range from the start (element zero) up to but NOT including element 2\n",
        "print(numbers[2:-2])   # print the range starting at element two up to but NOT including the second from the end (negative 2)"
      ]
    },
    {
      "cell_type": "markdown",
      "metadata": {
        "id": "AX-4OAA3aWjx"
      },
      "source": [
        "* A <font color='blue' face=\"Courier New\" size=\"+1\">list</font> is also mutable (changeable)\n",
        "  * We can change, add, remove and sort elements\n"
      ]
    },
    {
      "cell_type": "code",
      "execution_count": 11,
      "metadata": {
        "id": "ccWL_AnbbvGA",
        "colab": {
          "base_uri": "https://localhost:8080/"
        },
        "outputId": "ec04e549-c326-44e7-f05d-5cf4ebefb7b5"
      },
      "outputs": [
        {
          "output_type": "stream",
          "name": "stdout",
          "text": [
            "[5, 2, 2, 10, 12, 3, 7, 12]\n",
            "[5, 2, 10, 12, 3, 7, 12]\n",
            "[5, 2, 10, 12, 3, 7, 12, 20]\n",
            "[5, 10, 12, 3, 7, 12, 20]\n",
            "sorted [3, 5, 7, 10, 12, 12, 20]\n",
            "original [5, 10, 12, 3, 7, 12, 20]\n",
            "[3, 5, 7, 10, 12, 12, 20]\n"
          ]
        }
      ],
      "source": [
        "numbers = [4, 2, 2, 10, 12, 3, 7, 12]\n",
        "numbers[0] = 5         # change the first element to a value of 5\n",
        "print(numbers)\n",
        "\n",
        "numbers.remove(2)      # remove the first element with a value of 2\n",
        "print(numbers)\n",
        "\n",
        "numbers.append(20)     # add a value of twenty to the end of the list\n",
        "print(numbers)\n",
        "\n",
        "del numbers[1]         # delete element 1 from the list\n",
        "print(numbers)\n",
        "print('sorted', sorted(numbers)) # print a list of the numbers sorted, but don't change the list itself\n",
        "print('original', numbers)\n",
        "\n",
        "numbers.sort()         # this will mutate or change the list order\n",
        "print(numbers)"
      ]
    },
    {
      "cell_type": "markdown",
      "metadata": {
        "id": "O6Lc2kaVLYYf"
      },
      "source": [
        "* A <font color='blue' face=\"Courier New\" size=\"+1\">list</font> can contain any kind of data\n",
        "  * If all the elements are the same data type we call it homogeneous\n",
        "  * If they are different we call it heterogeneous\n"
      ]
    },
    {
      "cell_type": "code",
      "execution_count": 13,
      "metadata": {
        "id": "fZwRL97acNbk",
        "colab": {
          "base_uri": "https://localhost:8080/"
        },
        "outputId": "13d096be-e416-430b-f5be-76b9519b8d41"
      },
      "outputs": [
        {
          "output_type": "stream",
          "name": "stdout",
          "text": [
            "Alex\n",
            "[10, 12.3, 10.02, 'ten']\n"
          ]
        }
      ],
      "source": [
        "# homogeneous list of strings\n",
        "names = ['Sri', 'Alex', 'Martha']\n",
        "print(names[1])\n",
        "\n",
        "# heterogenous list of different types\n",
        "costs = [10, 12.3, 10.02, 'ten']\n",
        "print(costs)\n"
      ]
    },
    {
      "cell_type": "markdown",
      "metadata": {
        "id": "mK3OV5QVelL5"
      },
      "source": [
        "## Try it now: ##\n",
        "#### 1.\tCreate a simple list of five strings.\n",
        "#### 2.\tPrint the first and last element.\n",
        "#### 3.\tChange the second element to something different.\n",
        "#### 4. Sort the list and display it.\n",
        "<br>\n",
        "<details><summary>Click for <b>hint</b></summary>\n",
        "<p>\n",
        "1.\tMake a list of colors or names. Use <font color='blue' face=\"Courier New\" size=\"+1\">[ ]</font> and a quoted list of values separated by commas.\n",
        "<br>\n",
        "2.\tUse <font color='blue' face=\"Courier New\" size=\"+1\">[0]</font> for the first element and <font color='blue' face=\"Courier New\" size=\"+1\">[-1]</font> for the last element.\n",
        "<br>\n",
        "3.\tUse <font color='blue' face=\"Courier New\" size=\"+1\">[1]</font> for the second element and an <font color='blue' face=\"Courier New\" size=\"+1\"> = </font> to change the value.\n",
        "<br>\n",
        "4.\tUse the <font color='blue' face=\"Courier New\" size=\"+1\">sort</font> method not the <font color='blue' face=\"Courier New\" size=\"+1\">sorted</font> function.\n",
        "<br>\n",
        "<br>\n",
        "</p>\n",
        "</details>\n",
        "\n",
        "<details><summary>Click for <b>code</b></summary>\n",
        "<p>\n",
        "\n",
        "```python\n",
        "colors = ['red', 'blue', 'green', 'yellow', 'white']\n",
        "print(colors[0], colors[-1])\n",
        "colors[1] = 'black'\n",
        "colors.sort()\n",
        "print(colors)\n",
        "```\n",
        "</p>\n",
        "</details>"
      ]
    },
    {
      "cell_type": "code",
      "execution_count": 14,
      "metadata": {
        "id": "ZmuiTcY0eYmf",
        "colab": {
          "base_uri": "https://localhost:8080/"
        },
        "outputId": "14a10e30-57b4-4f98-cedc-f667f741970d"
      },
      "outputs": [
        {
          "output_type": "stream",
          "name": "stdout",
          "text": [
            "red white\n",
            "['black', 'green', 'red', 'white', 'yellow']\n"
          ]
        }
      ],
      "source": []
    },
    {
      "cell_type": "markdown",
      "source": [],
      "metadata": {
        "id": "YACtGdJ0hqud"
      }
    },
    {
      "cell_type": "markdown",
      "metadata": {
        "id": "mV0fURPROIfp"
      },
      "source": [
        "* Similar to lists are sets and tuples\n",
        "  * A<font color='blue' face=\"Courier New\" size=\"+1\">set</font> makes sure all the elements in the collection are unique\n",
        "    * we use curly braces <font color='blue' face=\"Courier New\" size=\"+1\">{ }</font> to surround the elements\n",
        "  * A <font color='blue' face=\"Courier New\" size=\"+1\">tuple</font> is just like a <font color='blue' face=\"Courier New\" size=\"+1\">list</font> but are not mutable, so once we assign values to it, we can't change them\n",
        "    * we use parantheses <font color='blue' face=\"Courier New\" size=\"+1\">( )</font> to surround the elements\n",
        "    * immutablity is slightly more efficient in some cases"
      ]
    },
    {
      "cell_type": "code",
      "execution_count": null,
      "metadata": {
        "id": "797LgCXQdPAi"
      },
      "outputs": [],
      "source": [
        "if in_stock:\n",
        "  # these are indented to indicate they are within the if block\n",
        "  print(name, 'is in stock')\n",
        "  print('Amount:', amount, \"Price:\", price, \"\"\"Total:\"\"\", amount * price)\n",
        "else:\n",
        "  # this is indented to the same level as the previous block but belongs to the else block\n",
        "  print(name, 'is not in stock')\n",
        "\n"
      ]
    },
    {
      "cell_type": "markdown",
      "metadata": {
        "id": "ggY5-CH8Okw7"
      },
      "source": [
        "* <font color='blue' face=\"Courier New\" size=\"+1\">input</font> is another function that is useful.\n",
        "* It asks the user a question and returns the result into a variable."
      ]
    },
    {
      "cell_type": "code",
      "execution_count": null,
      "metadata": {
        "id": "jIurdtj5jX4l"
      },
      "outputs": [],
      "source": [
        "name = input('Enter your name? ')\n",
        "print(f'Hello {name}, your name is {len(name)} characters long!')"
      ]
    },
    {
      "cell_type": "markdown",
      "metadata": {
        "id": "oUy7v_rCNxc9"
      },
      "source": [
        "* Functions are saved blocks of code that have a name, take some parameters, and return a value.\n",
        "* There are many built-in functions.\n"
      ]
    },
    {
      "cell_type": "code",
      "execution_count": null,
      "metadata": {
        "id": "ubl5Abkk60KU"
      },
      "outputs": [],
      "source": [
        "print(len('abcde'))\n",
        "print(abs(-10))\n"
      ]
    },
    {
      "cell_type": "markdown",
      "metadata": {
        "id": "f123G8ytO6Yt"
      },
      "source": [
        "* Let's use a simple <font color='blue' face=\"Courier New\" size=\"+1\">if</font> statement to do something different based on what the user enters."
      ]
    },
    {
      "cell_type": "code",
      "execution_count": null,
      "metadata": {
        "id": "PsQecRPyj0TW"
      },
      "outputs": [],
      "source": [
        "name = input('Enter your name? ')\n",
        "if len(name) <= 4:\n",
        "  print(f'{name}, your name if short.')\n",
        "else:\n",
        "  print(f'{name}, your name is long.')\n",
        "# Sometimes we want to repeat a process multiple times, so Python has several ways to do this.\n",
        "# In general, these are called loops.\n"
      ]
    },
    {
      "cell_type": "markdown",
      "metadata": {
        "id": "awIaF5X9PUJ4"
      },
      "source": [
        "* Sometimes we want to repeat a process multiple times, so Python has several ways to do this.\n",
        "* In general, these are called loops.\n",
        "* It's kind of like an if statement that says run the indented block if the condition is <font color='blue' face=\"Courier New\" size=\"+1\">True</font>\n",
        "but then it goes back to the top of the <font color='blue' face=\"Courier New\" size=\"+1\">while</font> loop and tries it again and again until the condition is <font color='blue' face=\"Courier New\" size=\"+1\">False</font>\n",
        "* Be careful, we need to make sure that we do something inside the loop that eventually makes the condition <font color='blue' face=\"Courier New\" size=\"+1\">False</font> or we end up with an infinite loop."
      ]
    },
    {
      "cell_type": "code",
      "execution_count": null,
      "metadata": {
        "id": "P1eO-nAXkagA"
      },
      "outputs": [],
      "source": [
        "x = 10\n",
        "while x > 0:\n",
        "  print(x)\n",
        "  x = x - 1\n"
      ]
    },
    {
      "cell_type": "markdown",
      "metadata": {
        "id": "_r5kDbWTP7UR"
      },
      "source": [
        "* Another way to loop is to use a <font color='blue' face=\"Courier New\" size=\"+1\">for</font> statement.\n",
        "* This will loop through each element in a range or collection (more about that later).\n"
      ]
    },
    {
      "cell_type": "code",
      "execution_count": null,
      "metadata": {
        "id": "VcwWxba8lCV_"
      },
      "outputs": [],
      "source": [
        "for x in range(10):\n",
        "  print(x)\n"
      ]
    },
    {
      "cell_type": "markdown",
      "metadata": {
        "id": "Eb6_6A-NQOxW"
      },
      "source": [
        "* The <font color='blue' face=\"Courier New\" size=\"+1\">range</font> function generates values between 0 and 9; it goes up to but does not include 10.\n",
        "* The following code would print values between 1 and 10.\n"
      ]
    },
    {
      "cell_type": "code",
      "execution_count": null,
      "metadata": {
        "id": "tWlxNDJrlVnC"
      },
      "outputs": [],
      "source": [
        "for x in range(1, 11):\n",
        "  print(x)"
      ]
    },
    {
      "cell_type": "markdown",
      "metadata": {
        "id": "s8RrBO_8asXg"
      },
      "source": [
        "* The <font color='blue' face=\"Courier New\" size=\"+1\">help</font> function can be useful to get details on how functions work."
      ]
    },
    {
      "cell_type": "code",
      "execution_count": null,
      "metadata": {
        "id": "Bj0lkYk-nZwF"
      },
      "outputs": [],
      "source": [
        "help(range)"
      ]
    },
    {
      "cell_type": "markdown",
      "metadata": {
        "id": "4wwQP-H_n7gD"
      },
      "source": [
        "## Try it now: ##\n",
        "#### Based on what you learned from getting help on range, can you write a loop that counts down from 5 to 1?\n",
        "<br>\n",
        "<details><summary>Click for <b>hint</b></summary>\n",
        "<p>\n",
        "Use -1 for the step parameter by supplying a third value inside the parentheses.\n",
        "</p>\n",
        "</details>\n",
        "\n",
        "<details><summary>Click for <b>code</b></summary>\n",
        "<p>\n",
        "\n",
        "```python\n",
        "for x in range(5, 0, -1):\n",
        "  print(x)\n",
        "```\n",
        "</p>\n",
        "</details>"
      ]
    },
    {
      "cell_type": "code",
      "execution_count": null,
      "metadata": {
        "id": "M1JuqdmwoW19"
      },
      "outputs": [],
      "source": []
    },
    {
      "cell_type": "markdown",
      "metadata": {
        "id": "mORQvUH1QhqO"
      },
      "source": [
        "* Sometimes function are in another module, so to load that module into memory we use the <font color='blue' face=\"Courier New\" size=\"+1\">import</font> command.\n"
      ]
    },
    {
      "cell_type": "code",
      "execution_count": null,
      "metadata": {
        "id": "ekHqc8uy7vBF"
      },
      "outputs": [],
      "source": [
        "import math\n",
        "print(math.sin(90))"
      ]
    },
    {
      "cell_type": "markdown",
      "metadata": {
        "id": "e0y54jZFStTU"
      },
      "source": [
        "* Some functions are built into the variables directly, we usually call these <font color='blue'>methods</font>.\n"
      ]
    },
    {
      "cell_type": "code",
      "execution_count": null,
      "metadata": {
        "id": "ZBwERLGK9TpF"
      },
      "outputs": [],
      "source": [
        "name = 'Han Solo'\n",
        "print(name.upper(), name.lower(), name.replace(' ', '-'))"
      ]
    },
    {
      "cell_type": "markdown",
      "metadata": {
        "id": "xZxIigC4S8o2"
      },
      "source": [
        "* Let's put it all together and make a complete program."
      ]
    },
    {
      "cell_type": "code",
      "execution_count": null,
      "metadata": {
        "id": "883uLTiIosp8"
      },
      "outputs": [],
      "source": [
        "import random\n",
        "\n",
        "print('Welcome to our little program.')\n",
        "name = input('Enter your name? ')\n",
        "play = True\n",
        "tries = 0\n",
        "correct = 0\n",
        "\n",
        "while play:\n",
        "  number1 = random.randint(1, 10)\n",
        "  number2 = random.randint(1, 10)\n",
        "  correct_answer = number1 + number2\n",
        "  answer = input(f'What is {number1} + {number2} = ')\n",
        "  answer = int(answer)\n",
        "  tries = tries + 1\n",
        "  if answer == correct_answer:\n",
        "    correct += 1\n",
        "    print(f'Good job {name}! You got {correct} out of {tries} right for a score of {100 * correct/tries:.0f}.')\n",
        "  else:\n",
        "    print(f'Sorry {name}. The answer is {correct_answer}. You got {correct} out of {tries} right for a score of {100 * correct/tries:.0f}.')\n",
        "\n",
        "  again = input('Do you want to play again? (Y/N)? ')\n",
        "  if again.upper() == 'N':\n",
        "    play = False\n",
        "\n"
      ]
    },
    {
      "cell_type": "markdown",
      "metadata": {
        "id": "hpxj5E-Yq-BU"
      },
      "source": [
        "## Challenge for later: ##\n",
        "#### Improve the program by having it randomly ask an addition or subtraction problem.\n",
        "<br>\n",
        "<details><summary>Click for <b>hint</b></summary>\n",
        "<p>\n",
        "Make another variable to create a random number between 1 and 2. If it's 1, do addition. If it's 2, subtraction.\n",
        "<br>\n",
        "Use an <font color='blue' face=\"Courier New\" size=\"+1\">if</font> block to display and calculate the question and answer properly.\n",
        "</p>\n",
        "</details>\n",
        "\n",
        "<details><summary>Click for <b>code</b></summary>\n",
        "<p>\n",
        "\n",
        "```python\n",
        "import random\n",
        "\n",
        "print('Welcome to our little program.')\n",
        "name = input('Enter your name? ')\n",
        "play = True\n",
        "tries = 0\n",
        "correct = 0\n",
        "\n",
        "while play:\n",
        "  number1 = random.randint(1, 10)\n",
        "  number2 = random.randint(1, 10)\n",
        "  \n",
        "  operation = random.randint(1,2)\n",
        "  if operation == 1:\n",
        "    correct_answer = number1 + number2\n",
        "    answer = input(f'What is {number1} + {number2} = ')\n",
        "  else:\n",
        "    correct_answer = number1 - number2\n",
        "    answer = input(f'What is {number1} - {number2} = ')\n",
        "\n",
        "  answer = int(answer)\n",
        "  tries = tries + 1\n",
        "  if answer == correct_answer:\n",
        "    correct += 1\n",
        "    print(f'Good job {name}! You got {correct} out of {tries} right for a score of {100 * correct/tries:.0f}.')  \n",
        "  else:\n",
        "    print(f'Sorry {name}. The answer is {correct_answer}. You got {correct} out of {tries} right for a score of {100 * correct/tries:.0f}.')  \n",
        "\n",
        "  again = input('Do you want to play again? (Y/N)? ')\n",
        "  if again.upper() == 'N':\n",
        "    play = False\n",
        "```\n",
        "</p>\n",
        "</details>"
      ]
    },
    {
      "cell_type": "code",
      "execution_count": null,
      "metadata": {
        "id": "DUvCSo01ryUQ"
      },
      "outputs": [],
      "source": []
    },
    {
      "cell_type": "markdown",
      "metadata": {
        "id": "wB0TY5hxRHFy"
      },
      "source": [
        "* Sometimes <font color='blue' face=\"Courier New\" size=\"+1\">if</font> conditions can get complicated, so we can combine multiple conditions with <font color='blue' face=\"Courier New\" size=\"+1\">and</font> & <font color='blue' face=\"Courier New\" size=\"+1\">or</font> and use <font color='blue' face=\"Courier New\" size=\"+1\">elif</font>\n"
      ]
    },
    {
      "cell_type": "code",
      "execution_count": null,
      "metadata": {
        "id": "a1vlQN0W6JJx"
      },
      "outputs": [],
      "source": [
        "x = 10\n",
        "y = 20\n",
        "if x == 10 and y >= 20:\n",
        "  print('One')\n",
        "elif x < 10 or y <= 20:\n",
        "  print('Two')\n",
        "else:\n",
        "  print('Three')\n",
        "\n"
      ]
    },
    {
      "cell_type": "markdown",
      "metadata": {
        "id": "CSj9hwFzRbie"
      },
      "source": [
        "\n",
        "* We can write our own functions to save some complex logic into a named block and reuse it.\n",
        "* We define a function with the <font color='blue' face=\"Courier New\" size=\"+1\">def</font> statement.\n",
        "* Functions take parameters (inputs values) that are like variables and allow us to pass values into the function when we call it."
      ]
    },
    {
      "cell_type": "code",
      "execution_count": null,
      "metadata": {
        "id": "RjlfcstQ895z"
      },
      "outputs": [],
      "source": [
        "def square(x):\n",
        "  return x * x\n",
        "\n",
        "# The following tests the function to see if it worked\n",
        "# Note that it is not indented, so it's not contained in the body of the function definition\n",
        "print(square(10))"
      ]
    },
    {
      "cell_type": "markdown",
      "metadata": {
        "id": "-hFgsZU9SAKo"
      },
      "source": [
        "\n",
        "* Here's a function that takes two parameters.\n",
        "* Note that both are required when we call the function, and if we leave one out it will give us an error.\n"
      ]
    },
    {
      "cell_type": "code",
      "execution_count": null,
      "metadata": {
        "id": "C-U74ZA4-Lk7"
      },
      "outputs": [],
      "source": [
        "def rectangle(x, y):\n",
        "  return x * y\n",
        "\n",
        "print(rectangle(10, 20))"
      ]
    },
    {
      "cell_type": "markdown",
      "metadata": {
        "id": "wb52Dn2iSJbd"
      },
      "source": [
        "* We can make parameters optional by assigning them a default value when we declare the function.\n",
        "* Then if we don't supply a value, it uses the default.\n",
        "* If we do supply a value, it overrides the default with what we supply.\n"
      ]
    },
    {
      "cell_type": "code",
      "execution_count": null,
      "metadata": {
        "id": "q6uFTd4M-P1I"
      },
      "outputs": [],
      "source": [
        "def rectangle(x, y = 1):\n",
        "  return x * y\n",
        "\n",
        "print(rectangle(10))"
      ]
    },
    {
      "cell_type": "code",
      "execution_count": null,
      "metadata": {
        "id": "Jr7tGpTP-vk4"
      },
      "outputs": [],
      "source": [
        "print(rectangle(x = 2, y = 3))"
      ]
    },
    {
      "cell_type": "markdown",
      "metadata": {
        "id": "sSZnoUD2_HFv"
      },
      "source": [
        "## Try it now: ##\n",
        "#### The code block below defines a function to calculate the volume of a cuboid. Call it by passing just an x value, or an x and y value, and then just an x and z value.\n",
        "<br>\n",
        "<details><summary>Click for <b>hint</b></summary>\n",
        "<p>\n",
        "For the first two, you can use the positions to pass the values.\n",
        "For the third one, though, you would need to use names of the parameters to pass them in.<br>\n",
        "</p>\n",
        "</details>\n",
        "\n",
        "<details><summary>Click for <b>code</b></summary>\n",
        "<p>\n",
        "\n",
        "```python\n",
        "def cuboid(x = 1, y = 2, z = 3):\n",
        "  return x * y * z\n",
        "\n",
        "print(cuboid(2))\n",
        "print(cuboid(2, 3))\n",
        "print(cuboid(2, z = 4))\n",
        "```\n",
        "</p>\n",
        "</details>"
      ]
    },
    {
      "cell_type": "code",
      "execution_count": null,
      "metadata": {
        "id": "DCB0QQqD_1LO"
      },
      "outputs": [],
      "source": [
        "def cuboid(x = 1, y = 2, z = 3):\n",
        "  return x * y * z\n",
        "\n"
      ]
    },
    {
      "cell_type": "markdown",
      "metadata": {
        "id": "9vS1tLjnTasu"
      },
      "source": [
        "* There's already a lot of functions defined, you just have to find them in either a built-in Python module or sometimes you need to download and install a module from the internet or another team in our organization.\n",
        "\n",
        "* The <font color='blue' face=\"Courier New\" size=\"+1\">os</font> module is a standard part of Python so we can just import it.\n",
        "* It has a lot of functions to interact with the operating system."
      ]
    },
    {
      "cell_type": "code",
      "execution_count": null,
      "metadata": {
        "id": "nihfRq7RAWnZ"
      },
      "outputs": [],
      "source": [
        "import os\n",
        "print(os.getcwd())\n",
        "os.mkdir('newfolder')\n",
        "print(os.listdir(os.getcwd()))\n"
      ]
    },
    {
      "cell_type": "markdown",
      "metadata": {
        "id": "gjnQl_CDT84M"
      },
      "source": [
        "* Nobody remembers every function and module so a lot of the time we either use the Python <font color='blue' face=\"Courier New\" size=\"+1\">help</font>  function, look it up on the internet, or use AI to help find what we're looking for.\n",
        "* Let's try the AI option. Click the <font color='blue'>Generate</font> button on the cell below.\n",
        "* Click the generate link in the code block below and enter the following: <font color='blue'>write python code to check if a folder exists</font>"
      ]
    },
    {
      "cell_type": "code",
      "execution_count": null,
      "metadata": {
        "id": "TFyUwkZSca5X"
      },
      "outputs": [],
      "source": []
    },
    {
      "cell_type": "markdown",
      "metadata": {
        "id": "iAZr0JhzVqzp"
      },
      "source": [
        "* This code checks if a folder exists and if not, create it in the current working folder."
      ]
    },
    {
      "cell_type": "code",
      "execution_count": null,
      "metadata": {
        "id": "3uAJYdvJCEcl"
      },
      "outputs": [],
      "source": [
        "import os\n",
        "print(os.getcwd())\n",
        "if not os.path.exists('newfolder'):\n",
        "  os.mkdir('newfolder')\n",
        "\n",
        "print(os.listdir(os.getcwd()))\n"
      ]
    },
    {
      "cell_type": "markdown",
      "metadata": {
        "id": "zG70TkwkVxtN"
      },
      "source": [
        "* This code goes through every file in a folder but only shows it if it's a CSV file."
      ]
    },
    {
      "cell_type": "code",
      "execution_count": null,
      "metadata": {
        "id": "rTLdlxszCknU"
      },
      "outputs": [],
      "source": [
        "for file in os.listdir('sample_data'):\n",
        "  if file.endswith('.csv'):\n",
        "    print(file)"
      ]
    },
    {
      "cell_type": "markdown",
      "metadata": {
        "id": "XpFmJy6uUkV9"
      },
      "source": [
        "* There's already a lot of functions already defined, you just have to find them in either a built-in Python module or sometimes you need to download and install a module from the internet or another team in your organization.\n",
        "* <a href=\"http://pypi.org\">PyPi</a> is a website that hosts a lot of open source packages.\n",
        "* Some are commonly used by everyone, others can be just a personal project someone posted.\n",
        "* Be careful and make sure you understand what you're downloading.\n"
      ]
    },
    {
      "cell_type": "code",
      "execution_count": null,
      "metadata": {
        "id": "cbOxNf8GDXyw"
      },
      "outputs": [],
      "source": [
        "! pip install converterpro"
      ]
    },
    {
      "cell_type": "code",
      "execution_count": null,
      "metadata": {
        "id": "2loQXs99DmnO"
      },
      "outputs": [],
      "source": [
        "from converterpro import weight_converter\n",
        "grams = weight_converter.Pounds(1.0).convert_to_grams()\n",
        "print(grams)\n"
      ]
    },
    {
      "cell_type": "markdown",
      "metadata": {
        "id": "go9sWN84FVRO"
      },
      "source": [
        "## Challenge for later: ##\n",
        "#### Write a program to go through each file in the sample_data folder and copy it to a CSV folder, JSON folder, or other folder based on the file's extension. Make sure to create the folders if they are not already there.\n",
        "<br>\n",
        "<details><summary>Click for <b>hint</b></summary>\n",
        "<p>\n",
        "You will need to import a library we've not seen yet, so either use the AI feature or look up how to copy a file in Python.\n",
        "<br>\n",
        "Use variables to build the path names for the source and destination files.\n",
        "<br>\n",
        "Confirm it worked by looking at the directories' content when you're done.\n",
        "</p>\n",
        "</details>\n",
        "\n",
        "<details><summary>Click for <b>code</b></summary>\n",
        "<p>\n",
        "\n",
        "```python\n",
        "import shutil, os\n",
        "pwd = os.getcwd() + '/sample_data'\n",
        "for file in os.listdir('sample_data'):\n",
        "  if file.endswith('.csv'):\n",
        "    path = pwd + '/csv'\n",
        "  elif file.endswith('.json'):\n",
        "    path = pwd + '/json'\n",
        "  else:\n",
        "    path = pwd + '/other'\n",
        "\n",
        "  if not os.path.exists(path):\n",
        "    os.mkdir(path)\n",
        "  shutil.copy(pwd + '/' + file, path)\n",
        "\n",
        "\n",
        "print(os.listdir(pwd + '/csv'))\n",
        "print(os.listdir(pwd + '/json'))\n",
        "print(os.listdir(pwd + '/other'))\n",
        "```\n",
        "</p>\n",
        "</details>"
      ]
    },
    {
      "cell_type": "code",
      "execution_count": null,
      "metadata": {
        "id": "51ug0AX1Fa7-"
      },
      "outputs": [],
      "source": []
    }
  ],
  "metadata": {
    "anaconda-cloud": {},
    "colab": {
      "provenance": []
    },
    "kernelspec": {
      "display_name": "Python 3",
      "language": "python",
      "name": "python3"
    },
    "language_info": {
      "codemirror_mode": {
        "name": "ipython",
        "version": 3
      },
      "file_extension": ".py",
      "mimetype": "text/x-python",
      "name": "python",
      "nbconvert_exporter": "python",
      "pygments_lexer": "ipython3",
      "version": "3.10.13"
    }
  },
  "nbformat": 4,
  "nbformat_minor": 0
}